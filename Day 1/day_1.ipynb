{
 "cells": [
  {
   "cell_type": "markdown",
   "metadata": {},
   "source": [
    "### Imports"
   ]
  },
  {
   "cell_type": "code",
   "execution_count": 3,
   "metadata": {},
   "outputs": [],
   "source": [
    "import numpy as np"
   ]
  },
  {
   "cell_type": "markdown",
   "metadata": {},
   "source": [
    "### Read input file"
   ]
  },
  {
   "cell_type": "code",
   "execution_count": 10,
   "metadata": {},
   "outputs": [],
   "source": [
    "column1 = []\n",
    "column2 = []\n",
    "\n",
    "# Read the file and process each line\n",
    "with open(\"input.txt\", 'r') as file:\n",
    "    for line in file:\n",
    "        # Split the line by whitespace\n",
    "        values = line.split()\n",
    "        column1.append(int(values[0]))\n",
    "        column2.append(int(values[1]))\n",
    "\n",
    "# Convert to np arrays\n",
    "array1 = np.array(column1)\n",
    "array2 = np.array(column2)"
   ]
  },
  {
   "cell_type": "markdown",
   "metadata": {},
   "source": [
    "### Calculate differences"
   ]
  },
  {
   "cell_type": "code",
   "execution_count": 18,
   "metadata": {},
   "outputs": [],
   "source": [
    "# Sort arrays in acending order\n",
    "array1 = np.sort(array1)\n",
    "array2 = np.sort(array2)\n",
    "\n",
    "deltas = []\n",
    "\n",
    "# Calculate deltas for each row\n",
    "for i in range(len(array1)):\n",
    "    delta = abs(array1[i] - array2[i])\n",
    "    deltas.append(delta)"
   ]
  },
  {
   "cell_type": "markdown",
   "metadata": {},
   "source": [
    "### Sum Differences"
   ]
  },
  {
   "cell_type": "code",
   "execution_count": 17,
   "metadata": {},
   "outputs": [
    {
     "name": "stdout",
     "output_type": "stream",
     "text": [
      "1189304\n"
     ]
    }
   ],
   "source": [
    "result = np.sum(deltas)\n",
    "print(result)"
   ]
  }
 ],
 "metadata": {
  "kernelspec": {
   "display_name": "Python 3",
   "language": "python",
   "name": "python3"
  },
  "language_info": {
   "codemirror_mode": {
    "name": "ipython",
    "version": 3
   },
   "file_extension": ".py",
   "mimetype": "text/x-python",
   "name": "python",
   "nbconvert_exporter": "python",
   "pygments_lexer": "ipython3",
   "version": "3.12.2"
  }
 },
 "nbformat": 4,
 "nbformat_minor": 2
}
