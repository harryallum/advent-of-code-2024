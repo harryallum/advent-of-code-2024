{
 "cells": [
  {
   "cell_type": "markdown",
   "metadata": {},
   "source": [
    "### Imports"
   ]
  },
  {
   "cell_type": "code",
   "execution_count": 1,
   "metadata": {},
   "outputs": [],
   "source": [
    "import numpy as np"
   ]
  },
  {
   "cell_type": "markdown",
   "metadata": {},
   "source": [
    "### Read input file"
   ]
  },
  {
   "cell_type": "code",
   "execution_count": 2,
   "metadata": {},
   "outputs": [],
   "source": [
    "column1 = []\n",
    "column2 = []\n",
    "\n",
    "# Read the file and process each line\n",
    "with open(\"input.txt\", 'r') as file:\n",
    "    for line in file:\n",
    "        # Split the line by whitespace\n",
    "        values = line.split()\n",
    "        column1.append(int(values[0]))\n",
    "        column2.append(int(values[1]))\n",
    "\n",
    "# Convert to np arrays\n",
    "array1 = np.array(column1)\n",
    "array2 = np.array(column2)"
   ]
  },
  {
   "cell_type": "markdown",
   "metadata": {},
   "source": [
    "### Calculate differences"
   ]
  },
  {
   "cell_type": "code",
   "execution_count": 3,
   "metadata": {},
   "outputs": [],
   "source": [
    "# Sort arrays in acending order\n",
    "array1 = np.sort(array1)\n",
    "array2 = np.sort(array2)\n",
    "\n",
    "deltas = []\n",
    "\n",
    "# Calculate deltas for each row\n",
    "for i in range(len(array1)):\n",
    "    delta = abs(array1[i] - array2[i])\n",
    "    deltas.append(delta)"
   ]
  },
  {
   "cell_type": "markdown",
   "metadata": {},
   "source": [
    "### Sum Differences"
   ]
  },
  {
   "cell_type": "code",
   "execution_count": 4,
   "metadata": {},
   "outputs": [
    {
     "name": "stdout",
     "output_type": "stream",
     "text": [
      "1189304\n"
     ]
    }
   ],
   "source": [
    "result = np.sum(deltas)\n",
    "print(result)"
   ]
  },
  {
   "cell_type": "markdown",
   "metadata": {},
   "source": [
    "### Calculate Similarity Score"
   ]
  },
  {
   "cell_type": "code",
   "execution_count": 12,
   "metadata": {},
   "outputs": [
    {
     "name": "stdout",
     "output_type": "stream",
     "text": [
      "24349736\n"
     ]
    }
   ],
   "source": [
    "similarity_scores = []\n",
    "\n",
    "# Convert to list so we can use count\n",
    "column2_lst = list(column2)\n",
    "\n",
    "for i in range(len(column1)):\n",
    "    value_to_count = column1[i]\n",
    "    count = column2_lst.count(value_to_count)\n",
    "    similarity_scores.append(count*value_to_count)\n",
    "\n",
    "similarity = np.sum(similarity_scores)\n",
    "print(similarity)"
   ]
  }
 ],
 "metadata": {
  "kernelspec": {
   "display_name": "Python 3",
   "language": "python",
   "name": "python3"
  },
  "language_info": {
   "codemirror_mode": {
    "name": "ipython",
    "version": 3
   },
   "file_extension": ".py",
   "mimetype": "text/x-python",
   "name": "python",
   "nbconvert_exporter": "python",
   "pygments_lexer": "ipython3",
   "version": "3.12.2"
  }
 },
 "nbformat": 4,
 "nbformat_minor": 2
}
